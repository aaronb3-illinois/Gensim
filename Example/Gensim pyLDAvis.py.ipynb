{
 "cells": [
  {
   "cell_type": "code",
   "execution_count": 1,
   "metadata": {
    "collapsed": false
   },
   "outputs": [
    {
     "name": "stdout",
     "output_type": "stream",
     "text": [
      "Dictionary(12146 unique tokens: ['project', 'gutenberg', 'ebook', 'moby', 'dick;']...)\n",
      "MmCorpus(22334 documents, 12146 features, 89629 non-zero entries)\n",
      "LdaModel(num_terms=12146, num_topics=90, decay=0.5, chunksize=2000)\n"
     ]
    }
   ],
   "source": [
    "import logging\n",
    "from gensim import corpora, models, similarities\n",
    "import warnings\n",
    "import pyLDAvis\n",
    "warnings.filterwarnings('ignore')\n",
    "import gensim\n",
    "import pyLDAvis.gensim\n",
    "\n",
    "pyLDAvis.enable_notebook()\n",
    "\n",
    "dictionary = gensim.corpora.Dictionary.load('/Users/aaron/Dropbox/Programming/cs410/Gensim/moby_dick.dict')\n",
    "corpus = gensim.corpora.MmCorpus('/Users/aaron/Dropbox/Programming/cs410/Gensim/moby_dick.mm')\n",
    "lda = gensim.models.ldamodel.LdaModel.load('/Users/aaron/Dropbox/Programming/cs410/Gensim/moby_dick.model')\n",
    "\n",
    "print(dictionary)\n",
    "print(corpus)\n",
    "print(lda)\n",
    "\n",
    "# print(lda.print_topics(num_topics=2, num_words=4))\n",
    "\n",
    "# for i in lda.print_topics():\n",
    "#     for j in i: print(j)\n",
    "\n",
    "\n",
    "data = pyLDAvis.gensim.prepare(lda, corpus, dictionary)\n",
    "pyLDAvis.save_html(data,'/Users/aaron/Dropbox/Programming/cs410/Gensim/vis.html')"
   ]
  }
 ],
 "metadata": {
  "kernelspec": {
   "display_name": "Python 3",
   "language": "python",
   "name": "python3"
  },
  "language_info": {
   "codemirror_mode": {
    "name": "ipython",
    "version": 3
   },
   "file_extension": ".py",
   "mimetype": "text/x-python",
   "name": "python",
   "nbconvert_exporter": "python",
   "pygments_lexer": "ipython3",
   "version": "3.6.0"
  }
 },
 "nbformat": 4,
 "nbformat_minor": 2
}
